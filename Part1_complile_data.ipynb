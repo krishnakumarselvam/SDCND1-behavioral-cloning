{
 "cells": [
  {
   "cell_type": "markdown",
   "metadata": {},
   "source": [
    "This notebook helps us combine data from multiple runs into one dataset"
   ]
  },
  {
   "cell_type": "code",
   "execution_count": 88,
   "metadata": {
    "collapsed": true
   },
   "outputs": [],
   "source": [
    "import os\n",
    "import pandas as pd"
   ]
  },
  {
   "cell_type": "code",
   "execution_count": 89,
   "metadata": {},
   "outputs": [],
   "source": [
    "main_folder = '../data/track_1/' # store the results of each training run here"
   ]
  },
  {
   "cell_type": "code",
   "execution_count": 90,
   "metadata": {},
   "outputs": [
    {
     "name": "stdout",
     "output_type": "stream",
     "text": [
      "u1 7233\n",
      "v1 4002\n",
      "v2 5023\n"
     ]
    }
   ],
   "source": [
    "subfolders = next(os.walk(main_folder))[1]\n",
    "df_list = []\n",
    "for f in subfolders:\n",
    "    run_folder = '{}{}/'.format(main_folder, f)\n",
    "    csv_filename = '{}driving_log.csv'.format(run_folder)\n",
    "    data = pd.read_csv(csv_filename, header=None)\n",
    "    data.columns = ['center', 'left', 'right', 'steering', 'v1', 'v2', 'v3']\n",
    "    data['steering_smooth_10'] = data['steering'].rolling(10, win_type='boxcar').mean()\n",
    "    data['steering_smooth_20'] = data['steering'].rolling(20, win_type='boxcar').mean()\n",
    "    data['steering_smooth_5'] = data['steering'].rolling(5, win_type='boxcar').mean()\n",
    "    data['run'] = f\n",
    "    data[data['steering_smooth_5'] == data['steering_smooth_5']] # remove nulls\n",
    "    lb = int(len(data) * 0.05)\n",
    "    ub = int(len(data) * 0.95)\n",
    "    data = data[lb:ub]\n",
    "    print(f,len(data))\n",
    "    df_list.append(data)\n",
    "main_df = pd.concat(df_list)\n",
    "output_filename = '{}driving_log_combined.csv'.format(main_folder)\n",
    "main_df.to_csv(output_filename, index=False)"
   ]
  },
  {
   "cell_type": "code",
   "execution_count": null,
   "metadata": {
    "collapsed": true
   },
   "outputs": [],
   "source": []
  }
 ],
 "metadata": {
  "kernelspec": {
   "display_name": "Python 3",
   "language": "python",
   "name": "python3"
  },
  "language_info": {
   "codemirror_mode": {
    "name": "ipython",
    "version": 3
   },
   "file_extension": ".py",
   "mimetype": "text/x-python",
   "name": "python",
   "nbconvert_exporter": "python",
   "pygments_lexer": "ipython3",
   "version": "3.5.2"
  },
  "widgets": {
   "state": {},
   "version": "1.1.2"
  }
 },
 "nbformat": 4,
 "nbformat_minor": 2
}
