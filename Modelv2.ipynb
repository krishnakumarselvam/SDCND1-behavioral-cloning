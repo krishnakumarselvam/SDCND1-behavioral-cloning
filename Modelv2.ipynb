{
 "cells": [
  {
   "cell_type": "code",
   "execution_count": 1,
   "metadata": {
    "collapsed": true
   },
   "outputs": [],
   "source": [
    "import pandas as pd\n",
    "import matplotlib.pyplot as plt\n",
    "import numpy as np\n",
    "%matplotlib inline"
   ]
  },
  {
   "cell_type": "code",
   "execution_count": null,
   "metadata": {
    "collapsed": true
   },
   "outputs": [],
   "source": [
    "import cv2"
   ]
  },
  {
   "cell_type": "code",
   "execution_count": null,
   "metadata": {
    "collapsed": true
   },
   "outputs": [],
   "source": [
    "folder = 'track_1'"
   ]
  },
  {
   "cell_type": "code",
   "execution_count": null,
   "metadata": {
    "collapsed": true
   },
   "outputs": [],
   "source": [
    "main_folder = '../data/{}'.format(folder)\n",
    "data = pd.read_csv('{}/driving_log_combined.csv'.format(main_folder))\n"
   ]
  },
  {
   "cell_type": "code",
   "execution_count": null,
   "metadata": {
    "collapsed": true
   },
   "outputs": [],
   "source": [
    "image_paths = []\n",
    "measurements = []\n",
    "for index, row in data.iterrows():\n",
    "    img_name = row['center'].split('/')[-1]\n",
    "    img_path = '{}/{}/IMG/{}'.format(main_folder, row['run'], img_name)\n",
    "    image_paths.append(img_path)\n",
    "    steering = row['steering']    \n",
    "    measurements.append(steering)b"
   ]
  },
  {
   "cell_type": "code",
   "execution_count": null,
   "metadata": {
    "collapsed": true
   },
   "outputs": [],
   "source": [
    "from sklearn.model_selection import train_test_splitb"
   ]
  },
  {
   "cell_type": "code",
   "execution_count": null,
   "metadata": {
    "collapsed": true
   },
   "outputs": [],
   "source": [
    "X_train, X_valid, y_train, y_valid = train_test_split(image_paths, measurements, test_size=0.2, random_state=42)"
   ]
  },
  {
   "cell_type": "code",
   "execution_count": null,
   "metadata": {
    "collapsed": true
   },
   "outputs": [],
   "source": [
    "def load_image(path):\n",
    "    return cv2.imread(path)\n",
    "def augment_image(img, steering):\n",
    "    if np.random.rand() > 0.5:\n",
    "        new_img = cv2.flip(img, 1)\n",
    "        steering = steering * -1.0\n",
    "        return new_img, steering\n",
    "    return img, steering\n",
    "def data_generator(is_train, batch_size, X, y):\n",
    "    images = []\n",
    "    measurements = []\n",
    "    for index in np.random.randint(0,len(X), batch_size):\n",
    "        path = X[index]\n",
    "        steering = y[index]\n",
    "        img = load_image(path)\n",
    "        if is_train:\n",
    "            img, steering = augment_image(img, steering)\n",
    "        images.append(img)\n",
    "        measurements.append(steering)\n",
    "\n",
    "    images = np.array(images)\n",
    "    measurements = np.array(measurements)    \n",
    "    yield images, measurements"
   ]
  },
  {
   "cell_type": "code",
   "execution_count": null,
   "metadata": {
    "collapsed": true
   },
   "outputs": [],
   "source": [
    "import pandas as pd # data analysis toolkit - create, read, update, delete datasets\n",
    "import numpy as np #matrix math\n",
    "from sklearn.model_selection import train_test_split #to split out training and testing data \n",
    "#The Sequential container is a linear stack of layers\n",
    "from keras.models import Sequential\n",
    "#popular optimization strategy that uses gradient descent \n",
    "from keras.optimizers import Adam\n",
    "#to save our model periodically as checkpoints for loading later\n",
    "from keras.callbacks import ModelCheckpoint\n",
    "#what types of layers do we want our model to have?\n",
    "from keras.layers import Lambda, Conv2D, MaxPooling2D, Dropout, Dense, Flatten\n",
    "#helper class to define input shape and generate training images given image paths & steering angles\n",
    "#for command line arguments\n",
    "import argparse\n",
    "#for reading files\n",
    "import os\n"
   ]
  },
  {
   "cell_type": "code",
   "execution_count": null,
   "metadata": {
    "collapsed": true
   },
   "outputs": [],
   "source": [
    "model = Sequential()\n",
    "#model.add(Lambda(lambda x: x/127.5-1.0, input_shape=(160,320,3)))\n",
    "model.add(Conv2D(24, 5, 5, activation='elu', subsample=(2, 2), input_shape=(160,320,3)))\n",
    "#model.add(Conv2D(36, 5, 5, activation='elu', subsample=(2, 2)))\n",
    "#model.add(Conv2D(48, 5, 5, activation='elu', subsample=(2, 2)))\n",
    "#model.add(Conv2D(64, 3, 3, activation='elu'))\n",
    "#model.add(Conv2D(64, 3, 3, activation='elu'))\n",
    "model.add(Dropout(0.5))\n",
    "model.add(Flatten())\n",
    "#model.add(Dense(100, activation='elu'))\n",
    "model.add(Dense(50, activation='elu'))\n",
    "model.add(Dense(10, activation='elu'))\n",
    "model.add(Dense(1))"
   ]
  },
  {
   "cell_type": "code",
   "execution_count": null,
   "metadata": {
    "collapsed": true
   },
   "outputs": [],
   "source": [
    "model.compile(loss='mse', optimizer='adam')\n",
    "b"
   ]
  },
  {
   "cell_type": "code",
   "execution_count": null,
   "metadata": {
    "collapsed": true
   },
   "outputs": [],
   "source": [
    "model.fit_generator(data_generator(is_train=True, batch_size=50, X=X_train, y=y_train),\n",
    "                    10, # samples per epoch\n",
    "                    10, # nb_epoch\n",
    "                    max_q_size=1,\n",
    "                    validation_data=data_generator(is_train=False, batch_size=50, X=X_valid, y=y_valid),\n",
    "                    nb_val_samples=100)\n"
   ]
  },
  {
   "cell_type": "code",
   "execution_count": null,
   "metadata": {
    "collapsed": true
   },
   "outputs": [],
   "source": [
    "model_name = '../models/model_v{}.h5'.format(i)\n",
    "model.save(model_name)\n",
    "i = i+1\n",
    "print(model_name)"
   ]
  }
 ],
 "metadata": {
  "kernelspec": {
   "display_name": "Python 3",
   "language": "python",
   "name": "python3"
  },
  "language_info": {
   "codemirror_mode": {
    "name": "ipython",
    "version": 3
   },
   "file_extension": ".py",
   "mimetype": "text/x-python",
   "name": "python",
   "nbconvert_exporter": "python",
   "pygments_lexer": "ipython3",
   "version": "3.5.2"
  },
  "widgets": {
   "state": {},
   "version": "1.1.2"
  }
 },
 "nbformat": 4,
 "nbformat_minor": 2
}
